{
 "cells": [
  {
   "cell_type": "code",
   "execution_count": null,
   "metadata": {},
   "outputs": [],
   "source": [
    "# importing required modules \n",
    "from zipfile import ZipFile \n",
    "  \n",
    "# specifying the zip file name \n",
    "zipfile = '../pentaho/divvy/divvy_data/Divvy_Trips_2016_Q3Q4.zip' \n",
    "  \n",
    "with ZipFile(zipfile, 'r') as zip: \n",
    "    # printing all the contents of the zip file\n",
    "    files = zip.namelist()\n",
    "print(files)"
   ]
  },
  {
   "cell_type": "code",
   "execution_count": null,
   "metadata": {},
   "outputs": [],
   "source": []
  },
  {
   "cell_type": "code",
   "execution_count": null,
   "metadata": {},
   "outputs": [],
   "source": [
    "import re\n",
    "r = re.compile(\"Divvy_Trips_.*Divvy_Trips.*csv$\")\n",
    "csvlist = list(filter(r.match, files))\n",
    "print(csvlist)\n",
    "    "
   ]
  },
  {
   "cell_type": "code",
   "execution_count": null,
   "metadata": {},
   "outputs": [],
   "source": [
    "import pandas as pd\n",
    "import numpy as np\n",
    "\n",
    "df = pd.concat([pd.read_csv(f) for f in csvlist])\n",
    "df"
   ]
  },
  {
   "cell_type": "code",
   "execution_count": null,
   "metadata": {},
   "outputs": [],
   "source": [
    "import requests\n",
    "import json\n",
    "from pandas.io.json import json_normalize"
   ]
  },
  {
   "cell_type": "code",
   "execution_count": null,
   "metadata": {},
   "outputs": [],
   "source": [
    "r = requests.get('https://feeds.divvybikes.com/stations/stations.json')\n",
    "if r.status_code == 200:\n",
    "    live_station_data = json.loads(r.text)\n",
    "    print(\"live data received\")\n",
    "else:\n",
    "    print(\"could not get live station data\")"
   ]
  },
  {
   "cell_type": "code",
   "execution_count": null,
   "metadata": {},
   "outputs": [],
   "source": [
    "station_data_raw  = json_normalize(live_station_data['stationBeanList'])\n",
    "station_data = station_data_raw[['id','latitude','longitude','status','stationName','availableDocks','totalDocks','availableBikes']]\n",
    "station_data"
   ]
  },
  {
   "cell_type": "code",
   "execution_count": null,
   "metadata": {},
   "outputs": [],
   "source": [
    "from_trips = pd.merge(df, station_data, left_on='from_station_id', right_on='id')\n",
    "to_trips = pd.merge(df, station_data, left_on='to_station_id', right_on='id')"
   ]
  },
  {
   "cell_type": "code",
   "execution_count": null,
   "metadata": {},
   "outputs": [],
   "source": [
    "#grouped = from_trips.groupby('from_station_id')\n",
    "#from_trips.groupby(['from_station_name']).count()\n",
    "#df[['col1', 'col2', 'col3', 'col4']].groupby(['col1', 'col2']).agg(['mean', 'count'])\n",
    "#from_trips.groupby(['from_station_id']).agg(['count'])\n",
    "#from_trips.groupby(['from_station_id']).size().reset_index(name='counts')\n",
    "from_count_total = from_trips.groupby(['from_station_id'])['from_station_id'].count().reset_index(name='from_count')\n",
    "to_count_total = from_trips.groupby(['to_station_id'])['to_station_id'].count().reset_index(name='to_count')"
   ]
  },
  {
   "cell_type": "code",
   "execution_count": null,
   "metadata": {},
   "outputs": [],
   "source": [
    "#verifying counts above\n",
    "from_trips[from_trips['from_station_id']==562]\n",
    "#to_trips[to_trips['to_station_id']==562]\n"
   ]
  },
  {
   "cell_type": "code",
   "execution_count": null,
   "metadata": {},
   "outputs": [],
   "source": [
    "from_trips_counts = pd.merge(from_trips, from_count_total, on='from_station_id')\n",
    "to_trips_counts = pd.merge(to_trips, to_count_total, on='to_station_id')\n",
    "\n",
    "df_to_counts = to_trips_counts[['to_station_name','latitude','longitude','availableDocks','totalDocks','availableBikes','to_count']].sort_values(by='to_count')\n",
    "df_from_counts = from_trips_counts[['from_station_name','latitude','longitude','availableDocks','totalDocks','availableBikes','from_count']].sort_values(by='from_count')"
   ]
  },
  {
   "cell_type": "code",
   "execution_count": null,
   "metadata": {},
   "outputs": [],
   "source": [
    "def name_range(row):\n",
    "    if row['counts'] < 10:\n",
    "        range_size = 'XS'\n",
    "    elif row['counts'] <= 10 and row['counts'] < 100:\n",
    "        range_size = 'S'\n",
    "    elif row['counts'] <= 100 and row['counts'] < 1500:\n",
    "        range_size = 'M'\n",
    "    elif row['counts'] <= 1500 and row['counts'] < 5000:\n",
    "        range_size = 'L'\n",
    "    elif row['counts'] <= 1500 and row['counts'] < 5000:\n",
    "        range_size = 'XL'\n",
    "    else:\n",
    "        range_size = 'unknown'\n",
    "    return range_size"
   ]
  },
  {
   "cell_type": "code",
   "execution_count": null,
   "metadata": {},
   "outputs": [],
   "source": [
    "#df_counts['range'] = df_counts.apply(name_range, axis=1)\n",
    "#df_counts.count()\n",
    "df_from_final = df_from_counts.drop_duplicates()\n",
    "df_to_final = df_to_counts.drop_duplicates()"
   ]
  },
  {
   "cell_type": "code",
   "execution_count": null,
   "metadata": {},
   "outputs": [],
   "source": [
    "df_from_final.loc[df_from_final['from_count'] < 10, 'from_range'] = 'XS'\n",
    "df_from_final.loc[(df_from_final['from_count'] >= 10) & (df_from_final['from_count'] < 100), 'from_range'] = 'S'\n",
    "df_from_final.loc[(df_from_final['from_count'] >= 100) & (df_from_final['from_count'] < 1500), 'from_range'] = 'M'\n",
    "df_from_final.loc[(df_from_final['from_count'] >= 1500) & (df_from_final['from_count'] < 5000), 'from_range'] = 'L'\n",
    "df_from_final.loc[df_from_final['from_count'] > 5000, 'from_range'] = 'XL'\n",
    "\n",
    "df_to_final.loc[df_to_final['to_count'] < 10, 'to_range'] = 'XS'\n",
    "df_to_final.loc[(df_to_final['to_count'] >= 10) & (df_to_final['to_count'] < 100), 'to_range'] = 'S'\n",
    "df_to_final.loc[(df_to_final['to_count'] >= 100) & (df_to_final['to_count'] < 1500), 'to_range'] = 'M'\n",
    "df_to_final.loc[(df_to_final['to_count'] >= 1500) & (df_to_final['to_count'] < 5000), 'to_range'] = 'L'\n",
    "df_to_final.loc[df_to_final['to_count'] > 5000, 'to_range'] = 'XL'\n"
   ]
  },
  {
   "cell_type": "code",
   "execution_count": null,
   "metadata": {},
   "outputs": [],
   "source": [
    "df_display = pd.merge(df_to_final, df_from_final, left_on='to_station_name', right_on='from_station_name')\n",
    "df_display_final = df_display[['from_station_name','latitude_x','longitude_x','availableDocks_x','totalDocks_x','availableBikes_x','to_count','to_range','from_count','from_range']]\n",
    "\n",
    "df_display_final.rename(columns={'from_station_name': 'stationName', 'latitude_x': 'latitude','longitude_x':'longitude','availableDocks_x'\\\n",
    "               :'availableDocks','totalDocks_x':'totalDocks','availableBikes_x':'availableBikes'}, inplace=True)\n",
    "df_display_final"
   ]
  },
  {
   "cell_type": "code",
   "execution_count": null,
   "metadata": {},
   "outputs": [],
   "source": []
  }
 ],
 "metadata": {
  "kernelspec": {
   "display_name": "divvy_analyze",
   "language": "python",
   "name": "divvy_analyze"
  },
  "language_info": {
   "codemirror_mode": {
    "name": "ipython",
    "version": 3
   },
   "file_extension": ".py",
   "mimetype": "text/x-python",
   "name": "python",
   "nbconvert_exporter": "python",
   "pygments_lexer": "ipython3",
   "version": "3.7.1"
  }
 },
 "nbformat": 4,
 "nbformat_minor": 2
}
