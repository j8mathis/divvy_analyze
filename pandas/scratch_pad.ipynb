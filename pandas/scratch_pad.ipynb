{
 "cells": [
  {
   "cell_type": "code",
   "execution_count": null,
   "metadata": {},
   "outputs": [],
   "source": [
    "# importing required modules \n",
    "import pandas as pd\n",
    "import numpy as np\n",
    "from pandas.io.json import json_normalize\n",
    "import utils as u\n",
    "\n",
    "# get dataframe from zipped csvs\n",
    "df = u.df_from_zip_csv(\"../pentaho/divvy/divvy_data/Divvy_Trips_2016_Q3Q4.zip\",\"Divvy_Trips_.*Divvy_Trips.*csv$\")\n",
    "\n",
    "#try to get live station from http request\n",
    "try:\n",
    "    station_data = u.get_request('https://feeds.divvybikes.com/stations/station.json')\n",
    "except requests.exceptions.HTTPError as err:\n",
    "    print(\"http request not successful\")\n",
    "    raise\n",
    "\n",
    "station_data_raw  = json_normalize(live_station_data['stationBeanList'])\n",
    "station_data = station_data_raw[['id','latitude','longitude','status','stationName','availableDocks','totalDocks','availableBikes']]\n",
    "\n",
    "from_trips = pd.merge(df, station_data, left_on='from_station_id', right_on='id')\n",
    "to_trips = pd.merge(df, station_data, left_on='to_station_id', right_on='id')\n",
    "\n",
    "from_count_total = from_trips.groupby(['from_station_id'])['from_station_id'].count().reset_index(name='from_count')\n",
    "to_count_total = from_trips.groupby(['to_station_id'])['to_station_id'].count().reset_index(name='to_count')"
   ]
  },
  {
   "cell_type": "code",
   "execution_count": null,
   "metadata": {},
   "outputs": [],
   "source": [
    "# importing required modules \n",
    "import pandas as pd\n",
    "from pandas.io.json import json_normalize\n",
    "import utils as u\n",
    "\n",
    "# get dataframe from zipped csvs\n",
    "df = u.df_from_zip_csv(\"../../pentaho/divvy/divvy_data/Divvy_Trips_2016_Q3Q4.zip\",\"Divvy_Trips_.*Divvy_Trips.*csv$\")\n"
   ]
  },
  {
   "cell_type": "code",
   "execution_count": null,
   "metadata": {},
   "outputs": [],
   "source": [
    "df"
   ]
  },
  {
   "cell_type": "code",
   "execution_count": null,
   "metadata": {},
   "outputs": [],
   "source": [
    "df.groupby(['gender'])['gender'].count().reset_index(name='count')\n",
    "\n"
   ]
  },
  {
   "cell_type": "code",
   "execution_count": null,
   "metadata": {},
   "outputs": [],
   "source": [
    "df"
   ]
  },
  {
   "cell_type": "code",
   "execution_count": null,
   "metadata": {},
   "outputs": [],
   "source": [
    "df_age = df.dropna(subset=['birthyear']).copy()\n",
    "df_age"
   ]
  },
  {
   "cell_type": "code",
   "execution_count": null,
   "metadata": {},
   "outputs": [],
   "source": [
    "#find age and sort by highest count\n",
    "from datetime import datetime\n",
    "\n",
    "now = datetime.now()\n",
    "df_age['age'] = now.year - df_age['birthyear']\n",
    "df_age"
   ]
  },
  {
   "cell_type": "code",
   "execution_count": null,
   "metadata": {},
   "outputs": [],
   "source": [
    "df_age_final = df_age.groupby(['age','birthyear'])['age'].count().reset_index(name='count')\n",
    "df_display_age = df_age_final[['birthyear','age','count']].sort_values(by='count',ascending=False).reset_index(drop=True)\n",
    "df_display_age.head()"
   ]
  },
  {
   "cell_type": "code",
   "execution_count": null,
   "metadata": {},
   "outputs": [],
   "source": [
    "import requests\n",
    "import json\n",
    "\n",
    "r = requests.get('https://feeds.divvybikes.com/stations/stations.json')\n",
    "r.raise_for_status()\n",
    "data = json.loads(r.text)\n",
    "print(r.raise_for_status)"
   ]
  },
  {
   "cell_type": "code",
   "execution_count": null,
   "metadata": {},
   "outputs": [],
   "source": [
    "try: \n",
    "    r = requests.get('https://feeds.divvybikes.com/stations/station.json')\n",
    "    r.raise_for_status()\n",
    "    data = json.loads(r.text)\n",
    "    print(data)\n",
    "except requests.exceptions.HTTPError as err:\n",
    "    print(\"http request not successful\")"
   ]
  },
  {
   "cell_type": "code",
   "execution_count": null,
   "metadata": {},
   "outputs": [],
   "source": [
    "# importing required modules \n",
    "import pandas as pd\n",
    "from pandas.io.json import json_normalize\n",
    "import utils as u\n",
    "from datetime import datetime\n",
    "import sys\n",
    "\n",
    "#try to get live station from http request\n",
    "station_data = u.get_request('https://feeds.divvybikes.com/stations/stations.json')\n",
    "\n",
    "if not station_data:\n",
    "    print(\"Cannot proceed without live data\")\n",
    "    sys.exit()\n",
    "\n",
    "\n",
    "#take json and pull out what info you want\n",
    "station_data_raw  = json_normalize(station_data['stationBeanList'])\n",
    "station_data = station_data_raw[['id','latitude','longitude','status','stationName','availableDocks','totalDocks','availableBikes']]\n",
    "\n",
    "#create two df for \"to\" and \"from\" \n",
    "#from_trips = pd.merge(df, station_data, left_on='from_station_id', right_on='id')\n",
    "#to_trips = pd.merge(df, station_data, left_on='to_station_id', right_on='id')\n",
    "\n",
    "# get dataframe from zipped csvs\n",
    "df = u.df_from_zip_csv(\"../../pentaho/divvy/divvy_data/Divvy_Trips_2016_Q3Q4.zip\",\"Divvy_Trips_.*Divvy_Trips.*csv$\")\n",
    "\n",
    "#count and group by station for each\n",
    "from_count_total = u.column_group_count(df,'from_station_id','from_count')\n",
    "to_count_total = u.column_group_count(df,'to_station_id','to_count')\n",
    "\n",
    "#verifying counts above\n",
    "#print(from_trips[from_trips['from_station_id']==582])\n",
    "#print(to_trips[to_trips['to_station_id']==562])\n",
    "\n",
    "#merge counts back onto dfs\n",
    "df_from = pd.merge(df, from_count_total, on='from_station_id')\n",
    "df_counts = pd.merge(df_from, to_count_total, on='to_station_id')\n",
    "df_counts"
   ]
  },
  {
   "cell_type": "code",
   "execution_count": null,
   "metadata": {},
   "outputs": [],
   "source": [
    "#verifying counts above\n",
    "#df_counts[df_counts['from_station_id']==582]\n",
    "#df_counts[df_counts['to_station_id']==582]"
   ]
  },
  {
   "cell_type": "code",
   "execution_count": 2,
   "metadata": {},
   "outputs": [
    {
     "ename": "AttributeError",
     "evalue": "module 'utils' has no attribute 'column_group_count'",
     "output_type": "error",
     "traceback": [
      "\u001b[0;31m---------------------------------------------------------------------------\u001b[0m",
      "\u001b[0;31mAttributeError\u001b[0m                            Traceback (most recent call last)",
      "\u001b[0;32m<ipython-input-2-fc3c1983cce6>\u001b[0m in \u001b[0;36m<module>\u001b[0;34m\u001b[0m\n\u001b[1;32m     26\u001b[0m \u001b[0;34m\u001b[0m\u001b[0m\n\u001b[1;32m     27\u001b[0m \u001b[0;31m#count and group by station for each\u001b[0m\u001b[0;34m\u001b[0m\u001b[0;34m\u001b[0m\u001b[0;34m\u001b[0m\u001b[0m\n\u001b[0;32m---> 28\u001b[0;31m \u001b[0mfrom_count_total\u001b[0m \u001b[0;34m=\u001b[0m \u001b[0mu\u001b[0m\u001b[0;34m.\u001b[0m\u001b[0mcolumn_group_count\u001b[0m\u001b[0;34m(\u001b[0m\u001b[0mfrom_trips\u001b[0m\u001b[0;34m,\u001b[0m\u001b[0;34m'from_station_id'\u001b[0m\u001b[0;34m,\u001b[0m\u001b[0;34m'from_count'\u001b[0m\u001b[0;34m)\u001b[0m\u001b[0;34m\u001b[0m\u001b[0;34m\u001b[0m\u001b[0m\n\u001b[0m\u001b[1;32m     29\u001b[0m \u001b[0mto_count_total\u001b[0m \u001b[0;34m=\u001b[0m \u001b[0mu\u001b[0m\u001b[0;34m.\u001b[0m\u001b[0mcolumn_group_count\u001b[0m\u001b[0;34m(\u001b[0m\u001b[0mto_trips\u001b[0m\u001b[0;34m,\u001b[0m\u001b[0;34m'to_station_id'\u001b[0m\u001b[0;34m,\u001b[0m\u001b[0;34m'to_count'\u001b[0m\u001b[0;34m)\u001b[0m\u001b[0;34m\u001b[0m\u001b[0;34m\u001b[0m\u001b[0m\n\u001b[1;32m     30\u001b[0m \u001b[0;34m\u001b[0m\u001b[0m\n",
      "\u001b[0;31mAttributeError\u001b[0m: module 'utils' has no attribute 'column_group_count'"
     ]
    }
   ],
   "source": [
    "\n",
    "# importing required modules \n",
    "import pandas as pd\n",
    "from pandas.io.json import json_normalize\n",
    "import utils as u\n",
    "from datetime import datetime\n",
    "import sys\n",
    "\n",
    "#try to get live station from http request\n",
    "station_data = u.get_request('https://feeds.divvybikes.com/stations/stations.json')\n",
    "\n",
    "if not station_data:\n",
    "    print(\"Cannot proceed without live data\")\n",
    "    sys.exit()\n",
    "\n",
    "#take json and pull out what info you want\n",
    "station_data_raw  = json_normalize(station_data['stationBeanList'])\n",
    "station_data = station_data_raw[['id','latitude','longitude','status','stationName','availableDocks','totalDocks','availableBikes']]\n",
    "\n",
    "# get dataframe from zipped csvs\n",
    "df = u.df_from_zip_csv(\"../../pentaho/divvy/divvy_data/Divvy_Trips_2016_Q3Q4.zip\",\"Divvy_Trips_.*Divvy_Trips.*csv$\")\n",
    "\n",
    "#create two df for \"to\" and \"from\" \n",
    "from_trips = pd.merge(df, station_data, left_on='from_station_id', right_on='id')\n",
    "to_trips = pd.merge(df, station_data, left_on='to_station_id', right_on='id')\n",
    "\n",
    "#count and group by station for each\n",
    "from_count_total = u.column_group_count(from_trips,'from_station_id','from_count')\n",
    "to_count_total = u.column_group_count(to_trips,'to_station_id','to_count')\n",
    "\n",
    "#verifying counts above\n",
    "#print(from_trips[from_trips['from_station_id']==582])\n",
    "#print(to_trips[to_trips['to_station_id']==562])\n",
    "\n",
    "#merge counts back onto dfs\n",
    "from_trips_counts = pd.merge(from_trips, from_count_total, on='from_station_id')\n",
    "to_trips_counts = pd.merge(to_trips, to_count_total, on='to_station_id')\n",
    "\n",
    "#sort and select \n",
    "df_to_counts = to_trips_counts[['to_station_name','latitude','longitude','availableDocks','totalDocks','availableBikes','to_count']].sort_values(by='to_count')\n",
    "df_from_counts = from_trips_counts[['from_station_name','from_count']].sort_values(by='from_count')\n",
    "\n",
    "#drop dups after join \n",
    "df_from_final = df_from_counts.drop_duplicates()\n",
    "df_to_final = df_to_counts.drop_duplicates()\n"
   ]
  },
  {
   "cell_type": "code",
   "execution_count": null,
   "metadata": {},
   "outputs": [],
   "source": [
    "#u.make_ranges(df_from_final,'from_count','from_range')\n",
    "\n",
    "df_from_final.loc[df_from_final['from_count'] < 10, 'from_range'] = 'XS'\n",
    "df_from_final"
   ]
  },
  {
   "cell_type": "code",
   "execution_count": null,
   "metadata": {},
   "outputs": [],
   "source": [
    "\n",
    "df_display_final = df_display[['to_station_name','latitude','longitude','availableDocks','totalDocks','availableBikes','to_count','to_range','from_count','from_range']]\n",
    "\n",
    "df_display_final.rename(columns={'to_station_name': 'stationName'}, inplace=True)\n",
    "df_display_final.head()\n"
   ]
  },
  {
   "cell_type": "code",
   "execution_count": null,
   "metadata": {},
   "outputs": [],
   "source": []
  }
 ],
 "metadata": {
  "kernelspec": {
   "display_name": "divvy_analyze",
   "language": "python",
   "name": "divvy_analyze"
  },
  "language_info": {
   "codemirror_mode": {
    "name": "ipython",
    "version": 3
   },
   "file_extension": ".py",
   "mimetype": "text/x-python",
   "name": "python",
   "nbconvert_exporter": "python",
   "pygments_lexer": "ipython3",
   "version": "3.7.1"
  }
 },
 "nbformat": 4,
 "nbformat_minor": 2
}
